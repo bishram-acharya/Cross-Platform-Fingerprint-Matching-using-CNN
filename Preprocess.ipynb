{
  "nbformat": 4,
  "nbformat_minor": 0,
  "metadata": {
    "colab": {
      "provenance": [],
      "authorship_tag": "ABX9TyNQsU/9XwdvajedlfQ56f1w",
      "include_colab_link": true
    },
    "kernelspec": {
      "name": "python3",
      "display_name": "Python 3"
    },
    "language_info": {
      "name": "python"
    }
  },
  "cells": [
    {
      "cell_type": "markdown",
      "metadata": {
        "id": "view-in-github",
        "colab_type": "text"
      },
      "source": [
        "<a href=\"https://colab.research.google.com/github/bishram-acharya/Cross-Platform-Fingerprint-Matching-using-CNN/blob/main/Preprocess.ipynb\" target=\"_parent\"><img src=\"https://colab.research.google.com/assets/colab-badge.svg\" alt=\"Open In Colab\"/></a>"
      ]
    },
    {
      "cell_type": "code",
      "execution_count": null,
      "metadata": {
        "id": "L3E-MoyxzLsq"
      },
      "outputs": [],
      "source": [
        "import sys\n",
        "import os\n",
        "import cv2\n",
        "from PIL import Image\n",
        "import numpy as np\n",
        "import matplotlib.pyplot as plt\n",
        "import time\n",
        "\n",
        "# Preprocess function\n",
        "\n",
        "\n",
        "def process_single_image(inpath):\n",
        "\n",
        "    myKernel = np.ones((5, 5))\n",
        "\n",
        "    img = cv2.imread(inpath)\n",
        "    # reading the image in grayscale mode\n",
        "    gray_img = cv2.imread(inpath, cv2.IMREAD_GRAYSCALE)\n",
        "    opening_gray_img = cv2.morphologyEx(\n",
        "        gray_img, cv2.MORPH_OPEN, myKernel)  # erosion followed by dilation\n",
        "    opening_rgb_img = cv2.morphologyEx(img, cv2.MORPH_OPEN, myKernel)\n",
        "\n",
        "    mask = cv2.adaptiveThreshold(\n",
        "        opening_gray_img, 255, cv2.ADAPTIVE_THRESH_GAUSSIAN_C, cv2.THRESH_BINARY_INV, 41, 4)\n",
        "\n",
        "    mask = mask.astype(np.uint8)\n",
        "    mask[mask == 255] = cv2.GC_FGD\n",
        "    mask[mask == 0] = cv2.GC_BGD\n",
        "\n",
        "    bgd_model = np.zeros((1, 65), dtype=np.float64)\n",
        "    fgd_model = np.zeros((1, 65), dtype=np.float64)\n",
        "    segmented_mask, _, _ = cv2.grabCut(\n",
        "        opening_rgb_img, mask, None, bgd_model, fgd_model, iterCount=2, mode=cv2.GC_INIT_WITH_MASK)\n",
        "\n",
        "    segmented_mask = np.where((segmented_mask == cv2.GC_FGD) | (\n",
        "        segmented_mask == cv2.GC_PR_FGD), 255, 0).astype(np.uint8)\n",
        "\n",
        "    segmented_image = cv2.bitwise_and(\n",
        "        opening_rgb_img, opening_rgb_img, mask=segmented_mask)\n",
        "\n",
        "    clahe = cv2.createCLAHE(clipLimit=30, tileGridSize=(7, 7))\n",
        "    clahe_adjusted_image = clahe.apply(\n",
        "        cv2.cvtColor(segmented_image, cv2.COLOR_RGB2GRAY))\n",
        "    _, thresholded_img = cv2.threshold(\n",
        "        clahe_adjusted_image, 0, 255, cv2.THRESH_BINARY_INV | cv2.THRESH_OTSU)\n",
        "\n",
        "    final_rotated_img = cv2.rotate(\n",
        "        thresholded_img, cv2.ROTATE_90_COUNTERCLOCKWISE)\n",
        "\n",
        "    downscaled_final_img = cv2.resize(\n",
        "        final_rotated_img, (224, 224), interpolation=cv2.INTER_LANCZOS4)\n",
        "    # this interpolation is computationally expensive, can try CUBIC for downscaling\n",
        "\n",
        "    return downscaled_final_img\n",
        "\n",
        "\n",
        "# Bulk processing\n",
        "image_folder = sys.argv[1]\n",
        "output_folder = sys.argv[2]\n",
        "image_list = []\n",
        "count = 1\n",
        "if not os.path.exists(output_folder):\n",
        "    os.makedirs(output_folder)\n",
        "start_time = time.time()\n",
        "for filename in os.listdir(image_folder):\n",
        "\n",
        "    inpath = f'D:/datset_fingerprint_buffalo/Fingerprint_Train_Test_Split/Task1/Train/Contactless/{filename}'\n",
        "    downscaled = process_single_image(inpath)\n",
        "    filename = f'D:/datset_fingerprint_buffalo/Fingerprint_Train_Test_Split/Task1/Train/segmented_contactless/{filename}'\n",
        "    # Overwrite\n",
        "    cv2.imwrite(filename, downscaled)\n",
        "    print(\"Done\")\n",
        "end_time = time.time()\n",
        "print(end_time-start_time)\n"
      ]
    }
  ]
}